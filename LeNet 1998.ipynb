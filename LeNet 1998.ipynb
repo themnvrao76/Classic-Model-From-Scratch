{
 "cells": [
  {
   "cell_type": "code",
   "execution_count": 9,
   "metadata": {},
   "outputs": [],
   "source": [
    "import torch\n",
    "from torch import nn\n",
    "from torch.nn import functional as f\n",
    "import torchvision\n",
    "from torchvision import transforms,datasets\n",
    "from matplotlib import pyplot as plt"
   ]
  },
  {
   "cell_type": "code",
   "execution_count": 54,
   "metadata": {},
   "outputs": [],
   "source": [
    "if torch.cuda.is_available():\n",
    "    dev=\"cuda\"  \n",
    "device=torch.device(dev)\n",
    "\n",
    "\n",
    "train = datasets.MNIST(\"\",train=True,download=True,\n",
    "                       transform=transforms.Compose([transforms.ToTensor()]))\n",
    "test = datasets.MNIST(\"\",train=False,download=True,\n",
    "                       transform=transforms.Compose([transforms.ToTensor()]))\n",
    "\n",
    "trainset = torch.utils.data.DataLoader(train,batch_size=64,shuffle=True,pin_memory=True)\n",
    "testset = torch.utils.data.DataLoader(test,batch_size=64,shuffle=True,pin_memory=True)\n"
   ]
  },
  {
   "cell_type": "code",
   "execution_count": 87,
   "metadata": {},
   "outputs": [],
   "source": [
    "class LeNet(nn.Module):\n",
    "    def __init__(self):\n",
    "        super(LeNet,self).__init__()\n",
    "        self.avgpool=nn.AvgPool2d(kernel_size=(2,2),stride=(2,2))\n",
    "        self.conv1=nn.Conv2d(in_channels=1,out_channels=6,kernel_size=(5,5),stride=1,padding=2)\n",
    "        self.conv2=nn.Conv2d(in_channels=6,out_channels=16,kernel_size=(5,5),stride=1,padding=0)\n",
    "        self.fc0=nn.Linear(in_features=16*5*5,out_features=120)\n",
    "        self.fc1=nn.Linear(in_features=120,out_features=84)\n",
    "        self.fc2=nn.Linear(in_features=84,out_features=10)\n",
    "        \n",
    "    def forward(self,x):\n",
    "        x=f.relu(self.conv1(x))\n",
    "        x=self.avgpool(x)\n",
    "        \n",
    "        x=f.relu(self.conv2(x))\n",
    "        x=self.avgpool(x)\n",
    "\n",
    "        \n",
    "        x=x.reshape(-1,16*5*5)\n",
    "       \n",
    "        \n",
    "        x=f.relu(self.fc0(x))\n",
    "        x=f.relu(self.fc1(x))\n",
    "        x=self.fc2(x)\n",
    "        \n",
    "        return x"
   ]
  },
  {
   "cell_type": "code",
   "execution_count": 88,
   "metadata": {},
   "outputs": [
    {
     "name": "stdout",
     "output_type": "stream",
     "text": [
      "True\n"
     ]
    }
   ],
   "source": [
    "net=LeNet().to(device)\n",
    "print(next(net.parameters()).is_cuda)"
   ]
  },
  {
   "cell_type": "code",
   "execution_count": 89,
   "metadata": {},
   "outputs": [],
   "source": [
    "lossf=nn.CrossEntropyLoss()\n",
    "optimizer=torch.optim.Adam(net.parameters(),lr=0.001)"
   ]
  },
  {
   "cell_type": "code",
   "execution_count": 90,
   "metadata": {},
   "outputs": [
    {
     "data": {
      "text/plain": [
       "<matplotlib.image.AxesImage at 0x2a09772ce08>"
      ]
     },
     "execution_count": 90,
     "metadata": {},
     "output_type": "execute_result"
    },
    {
     "data": {
      "image/png": "[encoded data removed]",
      "text/plain": [
       "<Figure size 432x288 with 1 Axes>"
      ]
     },
     "metadata": {
      "needs_background": "light"
     },
     "output_type": "display_data"
    }
   ],
   "source": [
    "plt.imshow(train[2][0].view(28,28))"
   ]
  },
  {
   "cell_type": "code",
   "execution_count": 91,
   "metadata": {},
   "outputs": [
    {
     "name": "stderr",
     "output_type": "stream",
     "text": [
      "100%|██████████████████████████████████████████████████| 938/938 [00:18<00:00, 49.84it/s]\n",
      "  1%|▍                                                   | 7/938 [00:00<00:13, 69.02it/s]"
     ]
    },
    {
     "name": "stdout",
     "output_type": "stream",
     "text": [
      "tensor(0.1568, device='cuda:0', grad_fn=<NllLossBackward0>)\n"
     ]
    },
    {
     "name": "stderr",
     "output_type": "stream",
     "text": [
      "100%|██████████████████████████████████████████████████| 938/938 [00:14<00:00, 66.30it/s]\n",
      "  1%|▍                                                   | 7/938 [00:00<00:15, 61.71it/s]"
     ]
    },
    {
     "name": "stdout",
     "output_type": "stream",
     "text": [
      "tensor(0.0133, device='cuda:0', grad_fn=<NllLossBackward0>)\n"
     ]
    },
    {
     "name": "stderr",
     "output_type": "stream",
     "text": [
      "100%|██████████████████████████████████████████████████| 938/938 [00:13<00:00, 68.76it/s]\n",
      "  1%|▍                                                   | 7/938 [00:00<00:14, 65.90it/s]"
     ]
    },
    {
     "name": "stdout",
     "output_type": "stream",
     "text": [
      "tensor(0.0905, device='cuda:0', grad_fn=<NllLossBackward0>)\n"
     ]
    },
    {
     "name": "stderr",
     "output_type": "stream",
     "text": [
      "100%|██████████████████████████████████████████████████| 938/938 [00:13<00:00, 67.77it/s]\n",
      "  1%|▍                                                   | 8/938 [00:00<00:12, 72.40it/s]"
     ]
    },
    {
     "name": "stdout",
     "output_type": "stream",
     "text": [
      "tensor(0.0033, device='cuda:0', grad_fn=<NllLossBackward0>)\n"
     ]
    },
    {
     "name": "stderr",
     "output_type": "stream",
     "text": [
      "100%|██████████████████████████████████████████████████| 938/938 [00:13<00:00, 67.61it/s]\n",
      "  1%|▍                                                   | 7/938 [00:00<00:14, 64.26it/s]"
     ]
    },
    {
     "name": "stdout",
     "output_type": "stream",
     "text": [
      "tensor(0.0046, device='cuda:0', grad_fn=<NllLossBackward0>)\n"
     ]
    },
    {
     "name": "stderr",
     "output_type": "stream",
     "text": [
      "100%|██████████████████████████████████████████████████| 938/938 [00:13<00:00, 67.56it/s]\n",
      "  1%|▍                                                   | 7/938 [00:00<00:15, 60.91it/s]"
     ]
    },
    {
     "name": "stdout",
     "output_type": "stream",
     "text": [
      "tensor(0.0232, device='cuda:0', grad_fn=<NllLossBackward0>)\n"
     ]
    },
    {
     "name": "stderr",
     "output_type": "stream",
     "text": [
      "100%|██████████████████████████████████████████████████| 938/938 [00:13<00:00, 70.04it/s]\n",
      "  1%|▎                                                   | 6/938 [00:00<00:16, 56.50it/s]"
     ]
    },
    {
     "name": "stdout",
     "output_type": "stream",
     "text": [
      "tensor(0.0387, device='cuda:0', grad_fn=<NllLossBackward0>)\n"
     ]
    },
    {
     "name": "stderr",
     "output_type": "stream",
     "text": [
      "100%|██████████████████████████████████████████████████| 938/938 [00:13<00:00, 67.42it/s]\n",
      "  1%|▍                                                   | 8/938 [00:00<00:13, 69.57it/s]"
     ]
    },
    {
     "name": "stdout",
     "output_type": "stream",
     "text": [
      "tensor(0.0652, device='cuda:0', grad_fn=<NllLossBackward0>)\n"
     ]
    },
    {
     "name": "stderr",
     "output_type": "stream",
     "text": [
      "100%|██████████████████████████████████████████████████| 938/938 [00:13<00:00, 67.60it/s]\n",
      "  1%|▎                                                   | 6/938 [00:00<00:16, 57.26it/s]"
     ]
    },
    {
     "name": "stdout",
     "output_type": "stream",
     "text": [
      "tensor(0.0147, device='cuda:0', grad_fn=<NllLossBackward0>)\n"
     ]
    },
    {
     "name": "stderr",
     "output_type": "stream",
     "text": [
      "100%|██████████████████████████████████████████████████| 938/938 [00:13<00:00, 69.33it/s]"
     ]
    },
    {
     "name": "stdout",
     "output_type": "stream",
     "text": [
      "tensor(0.0047, device='cuda:0', grad_fn=<NllLossBackward0>)\n"
     ]
    },
    {
     "name": "stderr",
     "output_type": "stream",
     "text": [
      "\n"
     ]
    }
   ],
   "source": [
    "from tqdm import tqdm\n",
    "Epochs=10\n",
    "loss_score=[]\n",
    "epoches=[]\n",
    "for i in range(Epochs):\n",
    "    for data in tqdm(trainset):\n",
    "        x , y = data\n",
    "        x , y = x.to(device),y.to(device)\n",
    "        net.zero_grad()\n",
    "        output=net.forward(x)\n",
    "        loss=lossf(output,y)\n",
    "        loss.backward()\n",
    "        optimizer.step()\n",
    "    loss_score.append(loss)\n",
    "    epoches.append(i)\n",
    "    print(loss)\n",
    "  \n"
   ]
  },
  {
   "cell_type": "code",
   "execution_count": 94,
   "metadata": {},
   "outputs": [
    {
     "data": {
      "text/plain": [
       "[<matplotlib.lines.Line2D at 0x2a097895788>]"
      ]
     },
     "execution_count": 94,
     "metadata": {},
     "output_type": "execute_result"
    },
    {
     "data": {
      "image/png": "[encoded data removed]",
      "text/plain": [
       "<Figure size 432x288 with 1 Axes>"
      ]
     },
     "metadata": {
      "needs_background": "light"
     },
     "output_type": "display_data"
    }
   ],
   "source": [
    "plt.plot(epoches,loss_score)"
   ]
  },
  {
   "cell_type": "code",
   "execution_count": null,
   "metadata": {},
   "outputs": [],
   "source": []
  }
 ],
 "metadata": {
  "kernelspec": {
   "display_name": "Python 3.7.8 64-bit",
   "language": "python",
   "name": "python37864bit3efe367894924a36a499243ba95600f9"
  },
  "language_info": {
   "codemirror_mode": {
    "name": "ipython",
    "version": 3
   },
   "file_extension": ".py",
   "mimetype": "text/x-python",
   "name": "python",
   "nbconvert_exporter": "python",
   "pygments_lexer": "ipython3",
   "version": "3.7.8"
  }
 },
 "nbformat": 4,
 "nbformat_minor": 4
}
